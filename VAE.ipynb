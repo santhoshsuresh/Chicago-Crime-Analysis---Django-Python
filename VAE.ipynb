{
  "nbformat": 4,
  "nbformat_minor": 0,
  "metadata": {
    "colab": {
      "name": "VAE",
      "provenance": [],
      "collapsed_sections": [],
      "authorship_tag": "ABX9TyP/wx07bTjmqesdCAKeFBtA",
      "include_colab_link": true
    },
    "kernelspec": {
      "name": "python3",
      "display_name": "Python 3"
    },
    "accelerator": "GPU"
  },
  "cells": [
    {
      "cell_type": "markdown",
      "metadata": {
        "id": "view-in-github",
        "colab_type": "text"
      },
      "source": [
        "<a href=\"https://colab.research.google.com/github/santhoshsuresh/Chicago-Crime-Analysis---Django-Python/blob/master/VAE.ipynb\" target=\"_parent\"><img src=\"https://colab.research.google.com/assets/colab-badge.svg\" alt=\"Open In Colab\"/></a>"
      ]
    },
    {
      "cell_type": "code",
      "metadata": {
        "id": "eajwHNcMSwZt"
      },
      "source": [
        "import torch\r\n",
        "import torch.nn.functional as F\r\n",
        "from torch import nn\r\n",
        "from tqdm.auto import tqdm\r\n",
        "from torchvision import transforms\r\n",
        "from torchvision.datasets import MNIST # Training dataset\r\n",
        "from torchvision.utils import make_grid\r\n",
        "from torch.utils.data import DataLoader\r\n",
        "import matplotlib.pyplot as plt\r\n",
        "torch.manual_seed(0) # Set for testing purposes, please do not change!\r\n",
        "\r\n",
        "# Function for visualizing images to plot the images in a uniform grid\r\n",
        "def show_tensor_images(image_tensor, num_images=25, size=(1, 28, 28)):\r\n",
        "    image_unflat = image_tensor.detach().cpu().view(-1, *size)\r\n",
        "    image_grid = make_grid(image_unflat[:num_images], nrow=5)\r\n",
        "    plt.imshow(image_grid.permute(1, 2, 0).squeeze())\r\n",
        "    plt.show()"
      ],
      "execution_count": null,
      "outputs": []
    },
    {
      "cell_type": "code",
      "metadata": {
        "id": "22ocP9PWS0BW"
      },
      "source": [
        "class Encoder(nn.Module):\r\n",
        "    def __init__(self):\r\n",
        "        super(Encoder, self).__init__()\r\n",
        "        c = capacity\r\n",
        "        self.conv1 = nn.Conv2d(in_channels=1, out_channels=c, kernel_size=4, stride=2, padding=1) # out: c x 14 x 14\r\n",
        "        self.conv2 = nn.Conv2d(in_channels=c, out_channels=c*2, kernel_size=4, stride=2, padding=1) # out: c x 7 x 7\r\n",
        "        self.fc_mu = nn.Linear(in_features=c*2*7*7, out_features=latent_dims)\r\n",
        "        self.fc_logvar = nn.Linear(in_features=c*2*7*7, out_features=latent_dims)\r\n",
        "            \r\n",
        "    def forward(self, x):\r\n",
        "        x = F.relu(self.conv1(x))\r\n",
        "        x = F.relu(self.conv2(x))\r\n",
        "        x = x.view(x.size(0), -1) # flatten batch of multi-channel feature maps to a batch of feature vectors\r\n",
        "        x_mu = self.fc_mu(x)\r\n",
        "        x_logvar = self.fc_logvar(x)\r\n",
        "        return x_mu, x_logvar"
      ],
      "execution_count": null,
      "outputs": []
    },
    {
      "cell_type": "code",
      "metadata": {
        "id": "VUzapmbOS_Bx"
      },
      "source": [
        "class Decoder(nn.Module):\r\n",
        "    def __init__(self):\r\n",
        "        super(Decoder, self).__init__()\r\n",
        "        c = capacity\r\n",
        "        self.fc = nn.Linear(in_features=latent_dims, out_features=c*2*7*7)\r\n",
        "        self.conv2 = nn.ConvTranspose2d(in_channels=c*2, out_channels=c, kernel_size=4, stride=2, padding=1)\r\n",
        "        self.conv1 = nn.ConvTranspose2d(in_channels=c, out_channels=1, kernel_size=4, stride=2, padding=1)\r\n",
        "            \r\n",
        "    def forward(self, x):\r\n",
        "        x = self.fc(x)\r\n",
        "        x = x.view(x.size(0), capacity*2, 7, 7) # unflatten batch of feature vectors to a batch of multi-channel feature maps\r\n",
        "        x = F.relu(self.conv2(x))\r\n",
        "        x = torch.sigmoid(self.conv1(x)) # last layer before output is sigmoid, since we are using BCE as reconstruction loss\r\n",
        "        return x"
      ],
      "execution_count": null,
      "outputs": []
    },
    {
      "cell_type": "code",
      "metadata": {
        "id": "HJzHBsrZTBsF"
      },
      "source": [
        "class VariationalAutoencoder(nn.Module):\r\n",
        "    def __init__(self):\r\n",
        "        super(VariationalAutoencoder, self).__init__()\r\n",
        "        self.encoder = Encoder()\r\n",
        "        self.decoder = Decoder()\r\n",
        "    \r\n",
        "    def forward(self, x):\r\n",
        "        latent_mu, latent_logvar = self.encoder(x)\r\n",
        "        latent = self.latent_sample(latent_mu, latent_logvar)\r\n",
        "        x_recon = self.decoder(latent)\r\n",
        "        return x_recon, latent_mu, latent_logvar\r\n",
        "    \r\n",
        "    def latent_sample(self, mu, logvar):\r\n",
        "        if self.training:\r\n",
        "            # the reparameterization trick\r\n",
        "            std = logvar.mul(0.5).exp_()\r\n",
        "            eps = torch.empty_like(std).normal_()\r\n",
        "            return eps.mul(std).add_(mu)\r\n",
        "        else:\r\n",
        "            return mu"
      ],
      "execution_count": null,
      "outputs": []
    },
    {
      "cell_type": "code",
      "metadata": {
        "id": "tYLTomc9TO4s"
      },
      "source": [
        "def computeVAELoss(recon_x, x, mu, logvar):\r\n",
        "    recon_loss = F.binary_cross_entropy(recon_x.view(-1, 784), x.view(-1, 784), reduction='sum')\r\n",
        "    kldivergence = -0.5 * torch.sum(1 + logvar - mu.pow(2) - logvar.exp())\r\n",
        "    \r\n",
        "    return recon_loss + variational_beta * kldivergence"
      ],
      "execution_count": null,
      "outputs": []
    },
    {
      "cell_type": "code",
      "metadata": {
        "id": "Ou6fEAA5TEz6"
      },
      "source": [
        "latent_dims = 2\r\n",
        "num_epochs = 50\r\n",
        "batch_size = 128\r\n",
        "capacity = 64\r\n",
        "learning_rate = 1e-3\r\n",
        "variational_beta = 1\r\n",
        "use_gpu = True\r\n",
        "display_step = 500\r\n",
        "\r\n",
        "img_transform = transforms.Compose([\r\n",
        "    transforms.ToTensor()\r\n",
        "])\r\n",
        "\r\n",
        "train_dataset = MNIST(root='./data/MNIST', download=True, train=True, transform=img_transform)\r\n",
        "train_dataloader = DataLoader(train_dataset, batch_size=batch_size, shuffle=True)"
      ],
      "execution_count": null,
      "outputs": []
    },
    {
      "cell_type": "code",
      "metadata": {
        "colab": {
          "base_uri": "https://localhost:8080/"
        },
        "id": "ftRiPTk2TJKC",
        "outputId": "6256f1be-d7de-4ff0-df09-5969baebcb51"
      },
      "source": [
        "vae = VariationalAutoencoder()\r\n",
        "\r\n",
        "device = torch.device(\"cuda:0\" if use_gpu and torch.cuda.is_available() else \"cpu\")\r\n",
        "vae = vae.to(device)\r\n",
        "\r\n",
        "num_params = sum(p.numel() for p in vae.parameters() if p.requires_grad)\r\n",
        "print('Number of parameters: %d' % num_params)\r\n",
        "\r\n",
        "optimizer = torch.optim.Adam(params=VAE.parameters(), lr=learning_rate, weight_decay=1e-5)"
      ],
      "execution_count": null,
      "outputs": [
        {
          "output_type": "stream",
          "text": [
            "Number of parameters: 308357\n"
          ],
          "name": "stdout"
        }
      ]
    },
    {
      "cell_type": "code",
      "metadata": {
        "colab": {
          "base_uri": "https://localhost:8080/"
        },
        "id": "8OaXVWJNTSes",
        "outputId": "4f7ed81d-a17d-4093-b1eb-0b8d1f7f8e8f"
      },
      "source": [
        "# set to training mode\r\n",
        "VAE.train()\r\n",
        "\r\n",
        "train_loss_avg = []\r\n",
        "\r\n",
        "print('Training ...')\r\n",
        "for epoch in range(num_epochs):\r\n",
        "    train_loss_avg.append(0)\r\n",
        "    num_batches = 0\r\n",
        "    \r\n",
        "    for image_batch, _ in train_dataloader:\r\n",
        "        \r\n",
        "        image_batch = image_batch.to(device)\r\n",
        "\r\n",
        "        # vae reconstruction\r\n",
        "        image_batch_recon, latent_mu, latent_logvar = vae(image_batch)\r\n",
        "        \r\n",
        "        # reconstruction error\r\n",
        "        loss = computeVAELoss(image_batch_recon, image_batch, latent_mu, latent_logvar)\r\n",
        "        \r\n",
        "        # backpropagation\r\n",
        "        optimizer.zero_grad()\r\n",
        "        loss.backward()\r\n",
        "        \r\n",
        "        # one step of the optmizer (using the gradients from backpropagation)\r\n",
        "        optimizer.step()\r\n",
        "        \r\n",
        "        train_loss_avg[-1] += loss.item()\r\n",
        "        num_batches += 1\r\n",
        "        \r\n",
        "    train_loss_avg[-1] /= num_batches\r\n",
        "    print('Epoch [%d / %d] average reconstruction error: %f' % (epoch+1, num_epochs, train_loss_avg[-1]))"
      ],
      "execution_count": null,
      "outputs": [
        {
          "output_type": "stream",
          "text": [
            "Training ...\n",
            "Epoch [1 / 50] average reconstruction error: 65634.794826\n",
            "Epoch [2 / 50] average reconstruction error: 65639.584055\n",
            "Epoch [3 / 50] average reconstruction error: 65639.290870\n",
            "Epoch [4 / 50] average reconstruction error: 65638.949144\n",
            "Epoch [5 / 50] average reconstruction error: 65636.857409\n",
            "Epoch [6 / 50] average reconstruction error: 65639.546317\n",
            "Epoch [7 / 50] average reconstruction error: 65630.238131\n",
            "Epoch [8 / 50] average reconstruction error: 65636.844266\n",
            "Epoch [9 / 50] average reconstruction error: 65636.125358\n",
            "Epoch [10 / 50] average reconstruction error: 65641.245178\n",
            "Epoch [11 / 50] average reconstruction error: 65630.791220\n",
            "Epoch [12 / 50] average reconstruction error: 65637.908407\n",
            "Epoch [13 / 50] average reconstruction error: 65638.616913\n",
            "Epoch [14 / 50] average reconstruction error: 65640.912488\n",
            "Epoch [15 / 50] average reconstruction error: 65632.080607\n",
            "Epoch [16 / 50] average reconstruction error: 65637.227820\n",
            "Epoch [17 / 50] average reconstruction error: 65633.984009\n",
            "Epoch [18 / 50] average reconstruction error: 65634.809377\n",
            "Epoch [19 / 50] average reconstruction error: 65638.227937\n",
            "Epoch [20 / 50] average reconstruction error: 65636.767815\n",
            "Epoch [21 / 50] average reconstruction error: 65629.387477\n",
            "Epoch [22 / 50] average reconstruction error: 65641.956823\n",
            "Epoch [23 / 50] average reconstruction error: 65646.205640\n",
            "Epoch [24 / 50] average reconstruction error: 65634.919485\n",
            "Epoch [25 / 50] average reconstruction error: 65631.889284\n",
            "Epoch [26 / 50] average reconstruction error: 65635.265150\n",
            "Epoch [27 / 50] average reconstruction error: 65633.902494\n",
            "Epoch [28 / 50] average reconstruction error: 65641.065657\n",
            "Epoch [29 / 50] average reconstruction error: 65634.253490\n",
            "Epoch [30 / 50] average reconstruction error: 65637.304446\n",
            "Epoch [31 / 50] average reconstruction error: 65631.553655\n",
            "Epoch [32 / 50] average reconstruction error: 65633.160165\n",
            "Epoch [33 / 50] average reconstruction error: 65635.224031\n",
            "Epoch [34 / 50] average reconstruction error: 65640.035215\n",
            "Epoch [35 / 50] average reconstruction error: 65635.390217\n",
            "Epoch [36 / 50] average reconstruction error: 65641.795834\n",
            "Epoch [37 / 50] average reconstruction error: 65636.439690\n",
            "Epoch [38 / 50] average reconstruction error: 65632.171192\n",
            "Epoch [39 / 50] average reconstruction error: 65643.762777\n",
            "Epoch [40 / 50] average reconstruction error: 65629.560110\n",
            "Epoch [41 / 50] average reconstruction error: 65637.050981\n",
            "Epoch [42 / 50] average reconstruction error: 65635.483126\n",
            "Epoch [43 / 50] average reconstruction error: 65639.641866\n",
            "Epoch [44 / 50] average reconstruction error: 65639.381422\n",
            "Epoch [45 / 50] average reconstruction error: 65633.134520\n",
            "Epoch [46 / 50] average reconstruction error: 65629.820221\n",
            "Epoch [47 / 50] average reconstruction error: 65631.336454\n",
            "Epoch [48 / 50] average reconstruction error: 65635.655134\n",
            "Epoch [49 / 50] average reconstruction error: 65636.913729\n",
            "Epoch [50 / 50] average reconstruction error: 65642.764709\n"
          ],
          "name": "stdout"
        }
      ]
    },
    {
      "cell_type": "code",
      "metadata": {
        "id": "fjowUeHJXUbn",
        "colab": {
          "base_uri": "https://localhost:8080/",
          "height": 265
        },
        "outputId": "a4b53726-fb6d-4671-cf00-0fa0c49aeb30"
      },
      "source": [
        "with torch.no_grad():\r\n",
        "    z = torch.randn(1, 2).cuda()\r\n",
        "    sample = VAE.decoder(z)\r\n",
        "\r\n",
        "    show_tensor_images(sample, num_images=1)"
      ],
      "execution_count": null,
      "outputs": [
        {
          "output_type": "display_data",
          "data": {
            "image/png": "[encoded data removed]",
            "text/plain": [
              "<Figure size 432x288 with 1 Axes>"
            ]
          },
          "metadata": {
            "tags": [],
            "needs_background": "light"
          }
        }
      ]
    },
    {
      "cell_type": "code",
      "metadata": {
        "id": "LwFLAJOZfttC"
      },
      "source": [
        ""
      ],
      "execution_count": null,
      "outputs": []
    }
  ]
}